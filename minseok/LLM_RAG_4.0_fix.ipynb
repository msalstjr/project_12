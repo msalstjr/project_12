{
 "cells": [
  {
   "cell_type": "markdown",
   "id": "57b24e64",
   "metadata": {},
   "source": [
    "### 라이브러리"
   ]
  },
  {
   "cell_type": "code",
   "execution_count": 1,
   "id": "73575ab3",
   "metadata": {},
   "outputs": [],
   "source": [
    "import os\n",
    "from dotenv import load_dotenv\n",
    "from langchain.document_loaders import PyPDFLoader\n",
    "from langchain.vectorstores import FAISS\n",
    "from langchain.text_splitter import RecursiveCharacterTextSplitter\n",
    "from langchain.embeddings import OpenAIEmbeddings\n",
    "from langchain_anthropic import ChatAnthropic\n",
    "from langchain_core.runnables import RunnablePassthrough\n",
    "from langchain_core.output_parsers import StrOutputParser\n",
    "from langchain import hub"
   ]
  },
  {
   "cell_type": "markdown",
   "id": "a00d5e8a",
   "metadata": {},
   "source": [
    "### API 키"
   ]
  },
  {
   "cell_type": "code",
   "execution_count": 2,
   "id": "4a98cccd",
   "metadata": {},
   "outputs": [],
   "source": [
    "# 🔐 환경변수 로드\n",
    "load_dotenv()\n",
    "ANTHROPIC_API_KEY = os.getenv(\"ANTHROPIC_API_KEY\")\n",
    "OPENAI_API_KEY    = os.getenv(\"OPENAI_API_KEY\")"
   ]
  },
  {
   "cell_type": "markdown",
   "id": "56a12359",
   "metadata": {},
   "source": [
    "### PDF 로드 / 임베딩"
   ]
  },
  {
   "cell_type": "code",
   "execution_count": null,
   "id": "c2933a2d",
   "metadata": {},
   "outputs": [
    {
     "name": "stderr",
     "output_type": "stream",
     "text": [
      "C:\\Users\\KDT2\\AppData\\Local\\Temp\\ipykernel_50624\\2967445440.py:10: LangChainDeprecationWarning: The class `OpenAIEmbeddings` was deprecated in LangChain 0.0.9 and will be removed in 1.0. An updated version of the class exists in the :class:`~langchain-openai package and should be used instead. To use it run `pip install -U :class:`~langchain-openai` and import as `from :class:`~langchain_openai import OpenAIEmbeddings``.\n",
      "  embeddings = OpenAIEmbeddings(model=\"text-embedding-3-small\",\n"
     ]
    }
   ],
   "source": [
    "# 📄 PDF 로드 및 분할\n",
    "loader = PyPDFLoader(\"KB 실버암 간편건강보험Plus.pdf\")\n",
    "pages = loader.load_and_split()\n",
    "text_splitter = RecursiveCharacterTextSplitter(chunk_size    = 200, \n",
    "                                               chunk_overlap = 20,\n",
    "                                               )\n",
    "docs = text_splitter.split_documents(pages)\n",
    "\n",
    "# OpenAI 임베딩\n",
    "embeddings = OpenAIEmbeddings(model=\"text-embedding-3-small\",\n",
    "                              openai_api_key = OPENAI_API_KEY,\n",
    "                              )\n",
    "\n",
    "# FAISS 벡터스토어 생성\n",
    "vectorstore = FAISS.from_documents(docs, \n",
    "                                   embedding = embeddings,\n",
    "                                   )\n",
    "retriever = vectorstore.as_retriever()"
   ]
  },
  {
   "cell_type": "code",
   "execution_count": 12,
   "id": "febdb73d",
   "metadata": {},
   "outputs": [
    {
     "name": "stderr",
     "output_type": "stream",
     "text": [
      "C:\\Users\\KDT2\\AppData\\Roaming\\Python\\Python311\\site-packages\\langsmith\\client.py:272: LangSmithMissingAPIKeyWarning: API key must be provided when using hosted LangSmith API\n",
      "  warnings.warn(\n"
     ]
    },
    {
     "name": "stdout",
     "output_type": "stream",
     "text": [
      "🧾 질문: 통합암진단비ii 는 보장범위가 어떻게 돼?\n",
      "\n",
      "💬 [LLM 단독 응답]:\n",
      "통합암진단비II의 일반적인 보장범위를 안내드리겠습니다.\n",
      "\n",
      "## 주요 보장 내용\n",
      "\n",
      "**1. 일반암**\n",
      "- 갑상선암, 기타피부암, 제자리암, 경계성종양을 제외한 모든 암\n",
      "- 진단 시 가입금액의 100% 지급\n",
      "\n",
      "**2. 갑상선암**\n",
      "- 진단 시 가입금액의 20~30% 지급\n",
      "\n",
      "**3. 기타피부암**\n",
      "- 진단 시 가입금액의 10~20% 지급\n",
      "\n",
      "**4. 제자리암(상피내암)**\n",
      "- 진단 시 가입금액의 10~20% 지급\n",
      "\n",
      "**5. 경계성종양**\n",
      "- 진단 시 가입금액의 10~20% 지급\n",
      "\n",
      "## 주요 특징\n",
      "\n",
      "- **통합 보장**: 여러 종류의 암을 하나의 특약으로 보장\n",
      "- **차등 지급**: 암의 종류에 따라 보험금을 차등 지급\n",
      "- **1회 한정**: 각 암 종류별로 최초 1회만 지급\n",
      "\n",
      "## 유의사항\n",
      "\n",
      "- 보험사별로 세부 보장비율이 다를 수 있음\n",
      "- 가입 후 90일간 면책기간 적용 (갑상선암 등 일부 제외)\n",
      "- 정확한 보장내용은 가입하신 보험약관을 확인하시기 바랍니다\n",
      "\n",
      "구체적인 상품명이나 보험사를 알려주시면 더 정확한 정보를 제공할 수 있습니다.\n",
      "\n",
      "📚 [RAG 기반 응답]:\n",
      "통합암진단비Ⅱ는 총 9개의 세부보장으로 구성되어 있으며, 특정소액암진단비Ⅱ, 생식기암 및 비뇨기관암진단비(자궁,전립선,방광제외), 소화기관암진단비, 혈액암진단비 등이 포함됩니다. 암보장개시일 이후 통합암Ⅱ(전이암포함)(유사암제외)로 진단확정된 경우, 암구분에 따라 각각 최초 1회의 진단에 한하여 보험금이 지급됩니다. 각 세부보장별로 보험가입금액의 50% 또는 100%가 지급되는 구조로 되어 있습니다.\n"
     ]
    }
   ],
   "source": [
    "# Claude LLM\n",
    "llm = ChatAnthropic(model=\"claude-opus-4-20250514\",\n",
    "                    temperature=0,\n",
    "                    max_tokens=1024,\n",
    "                    api_key=ANTHROPIC_API_KEY,\n",
    "                    )\n",
    "\n",
    "# RAG 프롬프트\n",
    "prompt = hub.pull(\"rlm/rag-prompt\")\n",
    "\n",
    "# RAG 체인 구성\n",
    "rag_chain = (\n",
    "    {\"context\": retriever, \"question\": RunnablePassthrough()}\n",
    "    | prompt\n",
    "    | llm\n",
    "    | StrOutputParser()\n",
    ")\n",
    "\n",
    "# ✅ LLM 단독 체인 구성 (출력 깔끔하게)\n",
    "llm_only_chain = llm | StrOutputParser()\n",
    "\n",
    "# 질문\n",
    "# question = \"고지의무를 위반한 경우 보험사는 어떤 조치를 취할 수 있나요?\"                                  # 민석 질문\n",
    "# question = \"특정암 ii란 뭐야?\"                                                                          # 1번 질문\n",
    "# question = \"유사암진단비iii 를 청구하려고 하는데 갑상선암은 어떤 검사를 통해 진단받아야돼?\"                # 2번 질문\n",
    "question = \"통합암진단비ii 는 보장범위가 어떻게 돼?\"                                                      # 3번 질문\n",
    "# question = \"통합전이암진단비의 보장범위는 어떻게 돼?\"                                                     # 4번 질문\n",
    "# question = \"보함계약한지 8개월이 지났는데 표적항암방사선 치료비를 보험가입금액의 100%를 받을 수 있어?\"      # 5번 질문\n",
    "# question = \"신재진단암진단비ii 에서 수술이란 뭐야?\"                                                       # 6번 질문    \n",
    "# question = \"보험금청구 했는데 언제 지급되니?\"                                                             # 7번 질문\n",
    "\n",
    "# 1. RAG 기반 응답\n",
    "rag_answer = rag_chain.invoke(question)\n",
    "\n",
    "# 2. 순수 LLM 응답 (문서 없이 바로 Claude에게 질문)\n",
    "llm_only_answer = llm_only_chain.invoke(question)\n",
    "\n",
    "# 출력\n",
    "print(\"🧾 질문:\", question)\n",
    "print(\"\\n💬 [LLM 단독 응답]:\")\n",
    "print(llm_only_answer)\n",
    "print(\"\\n📚 [RAG 기반 응답]:\")\n",
    "print(rag_answer)\n",
    "\n"
   ]
  },
  {
   "cell_type": "code",
   "execution_count": null,
   "id": "789bcbdb",
   "metadata": {},
   "outputs": [],
   "source": []
  },
  {
   "cell_type": "code",
   "execution_count": null,
   "id": "aec35343",
   "metadata": {},
   "outputs": [],
   "source": []
  },
  {
   "cell_type": "code",
   "execution_count": null,
   "id": "8aa91f3b",
   "metadata": {},
   "outputs": [],
   "source": []
  }
 ],
 "metadata": {
  "kernelspec": {
   "display_name": "Python 3",
   "language": "python",
   "name": "python3"
  },
  "language_info": {
   "codemirror_mode": {
    "name": "ipython",
    "version": 3
   },
   "file_extension": ".py",
   "mimetype": "text/x-python",
   "name": "python",
   "nbconvert_exporter": "python",
   "pygments_lexer": "ipython3",
   "version": "3.11.9"
  }
 },
 "nbformat": 4,
 "nbformat_minor": 5
}
