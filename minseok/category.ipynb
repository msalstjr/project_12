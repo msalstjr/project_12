{
 "cells": [
  {
   "cell_type": "markdown",
   "id": "f6fbf2c8",
   "metadata": {},
   "source": [
    "### 라이브러리"
   ]
  },
  {
   "cell_type": "code",
   "execution_count": 1,
   "id": "37e95d6b",
   "metadata": {},
   "outputs": [],
   "source": [
    "import os\n",
    "import shutil\n",
    "from dotenv import load_dotenv\n",
    "\n",
    "from langchain.document_loaders import PyPDFLoader\n",
    "from langchain.vectorstores import FAISS\n",
    "from langchain.text_splitter import RecursiveCharacterTextSplitter\n",
    "from langchain.embeddings import OpenAIEmbeddings\n",
    "from langchain_anthropic import ChatAnthropic\n",
    "from langchain_core.runnables import RunnablePassthrough\n",
    "from langchain_core.output_parsers import StrOutputParser\n",
    "from langchain import hub"
   ]
  },
  {
   "cell_type": "markdown",
   "id": "da6351ad",
   "metadata": {},
   "source": [
    "### API 설정"
   ]
  },
  {
   "cell_type": "code",
   "execution_count": 2,
   "id": "bb07fd5f",
   "metadata": {},
   "outputs": [],
   "source": [
    "# 🔐 API 키 불러오기\n",
    "load_dotenv()\n",
    "OPENAI_API_KEY = os.getenv(\"OPENAI_API_KEY\")\n",
    "ANTHROPIC_API_KEY = os.getenv(\"ANTHROPIC_API_KEY\")"
   ]
  },
  {
   "cell_type": "markdown",
   "id": "10a76577",
   "metadata": {},
   "source": [
    "### PDF 로드 / 임베딩 / DB생성"
   ]
  },
  {
   "cell_type": "code",
   "execution_count": null,
   "id": "cc1b8101",
   "metadata": {},
   "outputs": [
    {
     "name": "stderr",
     "output_type": "stream",
     "text": [
      "C:\\Users\\KDT2\\AppData\\Local\\Temp\\ipykernel_22216\\89801055.py:18: LangChainDeprecationWarning: The class `OpenAIEmbeddings` was deprecated in LangChain 0.0.9 and will be removed in 1.0. An updated version of the class exists in the :class:`~langchain-openai package and should be used instead. To use it run `pip install -U :class:`~langchain-openai` and import as `from :class:`~langchain_openai import OpenAIEmbeddings``.\n",
      "  embedding = OpenAIEmbeddings(model=\"text-embedding-3-small\",\n"
     ]
    }
   ],
   "source": [
    "# 📁 카테고리별 PDF 파일 경로\n",
    "category_pdf_map = {\"cancer\"  : \"KB 실버암 간편건강보험Plus.pdf\",\n",
    "                    \"medical\" : \"KB개인실손의료비보험.pdf\",\n",
    "                    \"accident\": \"KB개인상해보험.pdf\",\n",
    "                    \"fire\"    : \"KB아파트화재보험.pdf\",\n",
    "                    }\n",
    "\n",
    "# 💾 벡터스토어 저장 루트\n",
    "VECTOR_ROOT = \"vectorstores\"\n",
    "\n",
    "# 📑 텍스트 분할기\n",
    "text_splitter = RecursiveCharacterTextSplitter(chunk_size    = 200, \n",
    "                                               chunk_overlap = 20,\n",
    "                                               )\n",
    "\n",
    "# 🧠 OpenAI 임베딩\n",
    "embedding = OpenAIEmbeddings(model=\"text-embedding-3-small\", \n",
    "                             openai_api_key=OPENAI_API_KEY,\n",
    "                             )\n",
    "\n",
    "# ✅ (최초 1회 실행) PDF → 벡터스토어 생성 및 저장\n",
    "def build_vectorstores():\n",
    "    for category, pdf_path in category_pdf_map.items():\n",
    "        print(f\"[+] Building vectorstore for category: {category}\")\n",
    "        loader = PyPDFLoader(pdf_path)\n",
    "        pages = loader.load_and_split()\n",
    "        docs = text_splitter.split_documents(pages)\n",
    "\n",
    "        vectorstore_path = os.path.join(VECTOR_ROOT, category)\n",
    "        if os.path.exists(vectorstore_path):\n",
    "            shutil.rmtree(vectorstore_path)\n",
    "        vectorstore = FAISS.from_documents(docs, embedding=embedding)\n",
    "        vectorstore.save_local(vectorstore_path)\n",
    "\n",
    "# 🧠 카테고리별 키워드 기반 매핑\n",
    "category_keywords = {\n",
    "    \"cancer\": [\n",
    "        \"암\", \"유사암\", \"특정암\", \"전이암\", \"재진단암\", \"갑상선암\", \"폐암\", \"간암\", \"췌장암\",\n",
    "        \"소화기관암\", \"혈액암\", \"생식기암\", \"항암\", \"항암치료\", \"방사선치료\", \"항암방사선\",\n",
    "        \"항암약물\", \"표적항암\", \"호르몬약물\", \"CAR-T\", \"진단비\", \"암진단비\", \"암사망\"\n",
    "    ],\n",
    "    \"medical\": [\n",
    "        \"실손\", \"의료비\", \"입원\", \"통원\", \"진료비\", \"검사비\", \"수술\", \"응급실\", \"치료\",\n",
    "        \"자기부담금\", \"보험금 한도\", \"진단서\", \"의무기록\", \"보상종목\", \"다수보험\", \"연대책임\"\n",
    "    ],\n",
    "    \"accident\": [\n",
    "        \"상해\", \"재해\", \"사고\", \"교통사고\", \"골절\", \"화상\", \"후유장해\", \"사고사망\",\n",
    "        \"입원비\", \"수술비\", \"상해사망\", \"상해특약\"\n",
    "    ],\n",
    "    \"fire\": [\n",
    "        \"화재\", \"폭발\", \"붕괴\", \"누수\", \"도난\", \"배상책임\", \"재산\", \"가재도구\",\n",
    "        \"복구\", \"손해\", \"피해\", \"주택\", \"화재보험\", \"화재사고\"\n",
    "    ]\n",
    "}\n",
    "\n",
    "# 📌 질문 → 카테고리 매핑 함수\n",
    "def classify_question(question):\n",
    "    for category, keywords in category_keywords.items():\n",
    "        if any(keyword in question for keyword in keywords):\n",
    "            return category\n",
    "    return \"cancer\"  # 기본 fallback\n"
   ]
  },
  {
   "cell_type": "markdown",
   "id": "f6396964",
   "metadata": {},
   "source": [
    "### 모델"
   ]
  },
  {
   "cell_type": "code",
   "execution_count": 4,
   "id": "02746dbf",
   "metadata": {},
   "outputs": [
    {
     "name": "stderr",
     "output_type": "stream",
     "text": [
      "C:\\Users\\KDT2\\AppData\\Roaming\\Python\\Python311\\site-packages\\langsmith\\client.py:272: LangSmithMissingAPIKeyWarning: API key must be provided when using hosted LangSmith API\n",
      "  warnings.warn(\n"
     ]
    }
   ],
   "source": [
    "# 💬 LLM 및 RAG 설정\n",
    "llm = ChatAnthropic(model = \"claude-opus-4-20250514\", \n",
    "                    temperature = 0, \n",
    "                    max_tokens = 1024, \n",
    "                    api_key = ANTHROPIC_API_KEY,\n",
    "                    )\n",
    "prompt = hub.pull(\"rlm/rag-prompt\")\n",
    "llm_only_chain = llm | StrOutputParser()\n",
    "\n",
    "# 📣 질문 → 응답 생성 함수\n",
    "def answer_question(question):\n",
    "    category = classify_question(question)\n",
    "    vectorstore_path = os.path.join(VECTOR_ROOT, category)\n",
    "    print(f\"\\n[📂 선택된 카테고리: {category}]\")\n",
    "\n",
    "    # 벡터스토어 로드 및 Retriever 생성\n",
    "    vectorstore = FAISS.load_local(vectorstore_path,\n",
    "                                   embeddings = embedding,\n",
    "                                   allow_dangerous_deserialization = True  # 추가\n",
    "                                   )\n",
    "    \n",
    "    retriever = vectorstore.as_retriever()\n",
    "\n",
    "    # RAG 체인 생성\n",
    "    rag_chain = (\n",
    "        {\"context\": retriever, \"question\": RunnablePassthrough()}\n",
    "        | prompt\n",
    "        | llm\n",
    "        | StrOutputParser()\n",
    "    )\n",
    "\n",
    "    # 출력\n",
    "    print(\"🧾 질문:\", question)\n",
    "    print(\"\\n💬 [LLM 단독 응답]:\")\n",
    "    print(llm_only_chain.invoke(question))\n",
    "    print(\"\\n📚 [RAG 기반 응답]:\")\n",
    "    print(rag_chain.invoke(question))"
   ]
  },
  {
   "cell_type": "markdown",
   "id": "fb2823ea",
   "metadata": {},
   "source": [
    "### 벡터스토어 생성"
   ]
  },
  {
   "cell_type": "code",
   "execution_count": null,
   "id": "6a9af772",
   "metadata": {},
   "outputs": [],
   "source": [
    "# ✅ 최초 실행 시만 벡터스토어 생성\n",
    "build_vectorstores()"
   ]
  },
  {
   "cell_type": "markdown",
   "id": "6590e527",
   "metadata": {},
   "source": [
    "### 실행"
   ]
  },
  {
   "cell_type": "code",
   "execution_count": 7,
   "id": "683d6a5a",
   "metadata": {},
   "outputs": [
    {
     "name": "stdout",
     "output_type": "stream",
     "text": [
      "[+] Building vectorstore for category: cancer\n",
      "[+] Building vectorstore for category: medical\n",
      "[+] Building vectorstore for category: accident\n",
      "[+] Building vectorstore for category: fire\n",
      "\n",
      "[📂 선택된 카테고리: cancer]\n",
      "🧾 질문: 유사암진단비iii 를 청구하려고 하는데 갑상선암은 어떤 검사를 통해 진단받아야돼?\n",
      "\n",
      "💬 [LLM 단독 응답]:\n",
      "유사암진단비III 청구를 위한 갑상선암 진단 검사에 대해 안내드리겠습니다.\n",
      "\n",
      "## 필수 진단 검사\n",
      "\n",
      "### 1. **조직병리검사 (필수)**\n",
      "- **세침흡인검사(FNA)**: 가장 기본적인 검사\n",
      "- **중심부 바늘생검(CNB)**: 세침검사로 불충분한 경우\n",
      "- **수술 후 조직검사**: 최종 확진\n",
      "\n",
      "### 2. **영상검사**\n",
      "- **갑상선 초음파**: 결절 발견 및 평가\n",
      "- **CT 또는 MRI**: 병기 결정시 필요\n",
      "- **PET-CT**: 전이 여부 확인시\n",
      "\n",
      "## 보험금 청구시 필요서류\n",
      "\n",
      "1. **진단서** (갑상선암 병명 명시)\n",
      "2. **조직병리검사 결과지** (필수)\n",
      "3. **영상검사 결과지**\n",
      "4. **수술확인서** (수술한 경우)\n",
      "\n",
      "## 중요 확인사항\n",
      "\n",
      "⚠️ **보험약관 확인 필수**\n",
      "- 갑상선암의 보장 범위 (일반암/유사암 분류)\n",
      "- 진단확정의 정의\n",
      "- 면책기간 및 감액기간\n",
      "\n",
      "💡 **Tip**: 보험사마다 요구하는 서류가 다를 수 있으니, 청구 전 보험사에 필요서류를 확인하시기 바랍니다.\n",
      "\n",
      "추가로 궁금하신 사항이 있으시면 말씀해 주세요.\n",
      "\n",
      "📚 [RAG 기반 응답]:\n",
      "갑상선암 진단확정은 병리 또는 진단검사의학의 전문의 자격증을 가진 자에 의해 내려져야 합니다. 진단은 조직(fixed tissue)검사, 미세바늘흡인검사(fine needle aspiration), 또는 혈액(hemic system)검사에 대한 현미경 소견을 기초로 해야 합니다. 진단확정 시점은 이러한 검사에 의한 결과보고 시점으로 합니다.\n"
     ]
    }
   ],
   "source": [
    "# 📌 실행 예시\n",
    "if __name__ == \"__main__\":\n",
    "    # ✅ 최초 실행 시만 벡터스토어 생성\n",
    "    # build_vectorstores()\n",
    "\n",
    "    # 질문 예시\n",
    "    question = \"유사암진단비iii 를 청구하려고 하는데 갑상선암은 어떤 검사를 통해 진단받아야돼?\" \n",
    "    answer_question(question)"
   ]
  },
  {
   "cell_type": "code",
   "execution_count": null,
   "id": "270a6c30",
   "metadata": {},
   "outputs": [],
   "source": []
  }
 ],
 "metadata": {
  "kernelspec": {
   "display_name": "Python 3",
   "language": "python",
   "name": "python3"
  },
  "language_info": {
   "codemirror_mode": {
    "name": "ipython",
    "version": 3
   },
   "file_extension": ".py",
   "mimetype": "text/x-python",
   "name": "python",
   "nbconvert_exporter": "python",
   "pygments_lexer": "ipython3",
   "version": "3.11.9"
  }
 },
 "nbformat": 4,
 "nbformat_minor": 5
}
