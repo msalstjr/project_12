{
 "cells": [
  {
   "cell_type": "markdown",
   "id": "57b24e64",
   "metadata": {},
   "source": [
    "### 라이브러리"
   ]
  },
  {
   "cell_type": "code",
   "execution_count": 4,
   "id": "73575ab3",
   "metadata": {},
   "outputs": [],
   "source": [
    "import os\n",
    "from langchain.document_loaders import PyPDFLoader\n",
    "from langchain.vectorstores import FAISS\n",
    "from langchain.text_splitter import RecursiveCharacterTextSplitter\n",
    "from langchain.embeddings import OpenAIEmbeddings\n",
    "from langchain_anthropic import ChatAnthropic\n",
    "from langchain_core.runnables import RunnablePassthrough\n",
    "from langchain_core.output_parsers import StrOutputParser\n",
    "from langchain import hub\n",
    "from dotenv import load_dotenv"
   ]
  },
  {
   "cell_type": "markdown",
   "id": "a00d5e8a",
   "metadata": {},
   "source": [
    "### API 키"
   ]
  },
  {
   "cell_type": "code",
   "execution_count": 5,
   "id": "4a98cccd",
   "metadata": {},
   "outputs": [],
   "source": [
    "load_dotenv()\n",
    "\n",
    "# API 키 설정\n",
    "ANTHROPIC_API_KEY = os.getenv(\"ANTHROPIC_API_KEY\")\n",
    "OPENAI_API_KEY    = os.getenv(\"OPENAI_API_KEY\")"
   ]
  },
  {
   "cell_type": "markdown",
   "id": "56a12359",
   "metadata": {},
   "source": [
    "### PDF 로드 / 임베딩"
   ]
  },
  {
   "cell_type": "code",
   "execution_count": 6,
   "id": "c2933a2d",
   "metadata": {},
   "outputs": [
    {
     "name": "stderr",
     "output_type": "stream",
     "text": [
      "C:\\Users\\KDT2\\AppData\\Local\\Temp\\ipykernel_8856\\98390258.py:10: LangChainDeprecationWarning: The class `OpenAIEmbeddings` was deprecated in LangChain 0.0.9 and will be removed in 1.0. An updated version of the class exists in the :class:`~langchain-openai package and should be used instead. To use it run `pip install -U :class:`~langchain-openai` and import as `from :class:`~langchain_openai import OpenAIEmbeddings``.\n",
      "  embeddings = OpenAIEmbeddings(model=\"text-embedding-3-small\",\n"
     ]
    }
   ],
   "source": [
    "# PDF 로드 및 분할\n",
    "loader = PyPDFLoader(\"KB 실버암 간편건강보험Plus.pdf\")\n",
    "pages = loader.load_and_split()\n",
    "text_splitter = RecursiveCharacterTextSplitter(chunk_size    = 200, \n",
    "                                               chunk_overlap = 20,\n",
    "                                               )\n",
    "docs = text_splitter.split_documents(pages)\n",
    "\n",
    "# OpenAI 임베딩\n",
    "embeddings = OpenAIEmbeddings(model=\"text-embedding-3-small\",\n",
    "                              openai_api_key = OPENAI_API_KEY,\n",
    "                              )\n",
    "\n",
    "# FAISS 벡터 저장소\n",
    "vectorstore = FAISS.from_documents(docs, \n",
    "                                   embedding=embeddings,\n",
    "                                   )\n",
    "retriever = vectorstore.as_retriever()"
   ]
  },
  {
   "cell_type": "code",
   "execution_count": 14,
   "id": "febdb73d",
   "metadata": {},
   "outputs": [
    {
     "name": "stderr",
     "output_type": "stream",
     "text": [
      "C:\\Users\\KDT2\\AppData\\Roaming\\Python\\Python311\\site-packages\\langsmith\\client.py:272: LangSmithMissingAPIKeyWarning: API key must be provided when using hosted LangSmith API\n",
      "  warnings.warn(\n"
     ]
    },
    {
     "name": "stdout",
     "output_type": "stream",
     "text": [
      "🧾 질문: 보험금청구 했는데 언제 지급되니?\n",
      "\n",
      "💬 [LLM 단독 응답]:\n",
      "content='보험금 지급 시기는 보험사와 청구 내용에 따라 다르지만, 일반적인 기준을 안내해드릴게요.\\n\\n**일반적인 처리 기간:**\\n- **단순 청구**: 서류 접수 후 3~7영업일\\n- **복잡한 청구**: 10~30일 (조사가 필요한 경우)\\n\\n**확인하실 사항:**\\n1. **서류 완비 여부** - 누락된 서류가 있으면 지연됩니다\\n2. **보험사 심사 진행 상황** - 고객센터나 앱에서 확인 가능\\n3. **추가 서류 요청** - 문자나 전화 확인\\n\\n**빠른 처리를 위한 팁:**\\n- 보험사 고객센터에 직접 문의\\n- 모바일 앱에서 진행상황 확인\\n- 담당자 연락처 확보\\n\\n정확한 일정은 가입하신 보험사에 직접 문의하시는 것이 가장 확실합니다. 보험사명과 청구번호를 준비하시면 더 빠른 확인이 가능해요.' additional_kwargs={} response_metadata={'id': 'msg_01BD6vT5wUHj3QZtYJsKx8CD', 'model': 'claude-opus-4-20250514', 'stop_reason': 'end_turn', 'stop_sequence': None, 'usage': {'cache_creation_input_tokens': 0, 'cache_read_input_tokens': 0, 'input_tokens': 26, 'output_tokens': 362, 'server_tool_use': None, 'service_tier': 'standard'}, 'model_name': 'claude-opus-4-20250514'} id='run--29d59e59-0bb6-4eee-b52b-91f7d1c98efc-0' usage_metadata={'input_tokens': 26, 'output_tokens': 362, 'total_tokens': 388, 'input_token_details': {'cache_read': 0, 'cache_creation': 0}}\n",
      "\n",
      "📚 [RAG 기반 응답]:\n",
      "보험금은 청구서류 접수일부터 3영업일 이내에 지급됩니다. 다만, 손해사정이나 조사 등이 필요한 경우에는 최대 30영업일까지 소요될 수 있습니다.\n"
     ]
    }
   ],
   "source": [
    "# Claude LLM\n",
    "llm = ChatAnthropic(model=\"claude-opus-4-20250514\",\n",
    "                    temperature=0,\n",
    "                    max_tokens=1024,\n",
    "                    api_key=ANTHROPIC_API_KEY,\n",
    "                    )\n",
    "\n",
    "# RAG 프롬프트\n",
    "prompt = hub.pull(\"rlm/rag-prompt\")\n",
    "\n",
    "# RAG 체인 구성\n",
    "rag_chain = (\n",
    "    {\"context\": retriever, \"question\": RunnablePassthrough()}\n",
    "    | prompt\n",
    "    | llm\n",
    "    | StrOutputParser()\n",
    ")\n",
    "\n",
    "# 질문\n",
    "# question = \"고지의무를 위반한 경우 보험사는 어떤 조치를 취할 수 있나요?\"                                  # 민석 질문\n",
    "# question = \"특정암 ii란 뭐야?\"                                                                          # 1번 질문\n",
    "# question = \"유사암진단비iii 를 청구하려고 하는데 갑상선암은 어떤 검사를 통해 진단받아야돼?\"                # 2번 질문\n",
    "# question = \"통합암진단비ii 는 보장범위가 어떻게 돼?\"                                                      # 3번 질문\n",
    "# question = \"통합전이암진단비의 보장범위는 어떻게 돼?\"                                                     # 4번 질문\n",
    "# question = \"보함계약한지 8개월이 지났는데 표적항암방사선 치료비를 보험가입금액의 100%를 받을 수 있어?\"      # 5번 질문\n",
    "# question = \"신재진단암진단비ii 에서 수술이란 뭐야?\"                                                       # 6번 질문    \n",
    "question = \"보험금청구 했는데 언제 지급되니?\"                                                             # 7번 질문\n",
    "\n",
    "# 1. RAG 기반 응답\n",
    "rag_answer = rag_chain.invoke(question)\n",
    "\n",
    "# 2. 순수 LLM 응답 (문서 없이 바로 Claude에게 질문)\n",
    "llm_only_answer = llm.invoke(question)\n",
    "\n",
    "# 출력\n",
    "print(\"🧾 질문:\", question)\n",
    "print(\"\\n💬 [LLM 단독 응답]:\")\n",
    "print(llm_only_answer)\n",
    "print(\"\\n📚 [RAG 기반 응답]:\")\n",
    "print(rag_answer)\n",
    "\n"
   ]
  },
  {
   "cell_type": "code",
   "execution_count": null,
   "id": "789bcbdb",
   "metadata": {},
   "outputs": [],
   "source": []
  },
  {
   "cell_type": "code",
   "execution_count": null,
   "id": "aec35343",
   "metadata": {},
   "outputs": [],
   "source": []
  }
 ],
 "metadata": {
  "kernelspec": {
   "display_name": "Python 3",
   "language": "python",
   "name": "python3"
  },
  "language_info": {
   "codemirror_mode": {
    "name": "ipython",
    "version": 3
   },
   "file_extension": ".py",
   "mimetype": "text/x-python",
   "name": "python",
   "nbconvert_exporter": "python",
   "pygments_lexer": "ipython3",
   "version": "3.11.9"
  }
 },
 "nbformat": 4,
 "nbformat_minor": 5
}
