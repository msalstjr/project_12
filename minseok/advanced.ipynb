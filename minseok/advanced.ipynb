{
 "cells": [
  {
   "cell_type": "markdown",
   "id": "d14f41e7",
   "metadata": {},
   "source": [
    "### 라이브러리"
   ]
  },
  {
   "cell_type": "code",
   "execution_count": 3,
   "id": "153eae37",
   "metadata": {},
   "outputs": [],
   "source": [
    "import os\n",
    "import fitz  # PyMuPDF\n",
    "from dotenv import load_dotenv\n",
    "\n",
    "from langchain.document_loaders import TextLoader\n",
    "from langchain.vectorstores import FAISS\n",
    "from langchain.text_splitter import RecursiveCharacterTextSplitter\n",
    "from langchain.embeddings import OpenAIEmbeddings\n",
    "from langchain_anthropic import ChatAnthropic\n",
    "from langchain_core.runnables import RunnablePassthrough\n",
    "from langchain_core.output_parsers import StrOutputParser\n",
    "from langchain import hub"
   ]
  },
  {
   "cell_type": "markdown",
   "id": "fcc65a14",
   "metadata": {},
   "source": [
    "### API 키"
   ]
  },
  {
   "cell_type": "code",
   "execution_count": 4,
   "id": "583ec5e2",
   "metadata": {},
   "outputs": [],
   "source": [
    "# 🔐 환경변수 로드\n",
    "load_dotenv()\n",
    "ANTHROPIC_API_KEY = os.getenv(\"ANTHROPIC_API_KEY\")\n",
    "OPENAI_API_KEY    = os.getenv(\"OPENAI_API_KEY\")"
   ]
  },
  {
   "cell_type": "markdown",
   "id": "a1830569",
   "metadata": {},
   "source": [
    "### 좌우 텍스트 추출"
   ]
  },
  {
   "cell_type": "code",
   "execution_count": 5,
   "id": "11cc3645",
   "metadata": {},
   "outputs": [
    {
     "name": "stdout",
     "output_type": "stream",
     "text": [
      "✅ 텍스트 저장 완료: KB_실버암_간편건강보험Plus.txt\n"
     ]
    },
    {
     "name": "stderr",
     "output_type": "stream",
     "text": [
      "C:\\Users\\KDT2\\AppData\\Local\\Temp\\ipykernel_7684\\253296897.py:58: LangChainDeprecationWarning: The class `OpenAIEmbeddings` was deprecated in LangChain 0.0.9 and will be removed in 1.0. An updated version of the class exists in the :class:`~langchain-openai package and should be used instead. To use it run `pip install -U :class:`~langchain-openai` and import as `from :class:`~langchain_openai import OpenAIEmbeddings``.\n",
      "  embeddings = OpenAIEmbeddings(model=\"text-embedding-3-small\",\n",
      "C:\\Users\\KDT2\\AppData\\Roaming\\Python\\Python311\\site-packages\\langsmith\\client.py:272: LangSmithMissingAPIKeyWarning: API key must be provided when using hosted LangSmith API\n",
      "  warnings.warn(\n"
     ]
    }
   ],
   "source": [
    "# ---------------------------------------------------\n",
    "# ✅ 1. PDF → 좌/우 텍스트 추출 → TXT 저장\n",
    "# ---------------------------------------------------\n",
    "\n",
    "def extract_left_right_text(pdf_path):\n",
    "    doc = fitz.open(pdf_path)\n",
    "    left_text_total = \"\"\n",
    "    right_text_total = \"\"\n",
    "\n",
    "    for page_num, page in enumerate(doc):\n",
    "        width = page.rect.width\n",
    "        blocks = page.get_text(\"blocks\")\n",
    "\n",
    "        left_text = \"\"\n",
    "        right_text = \"\"\n",
    "\n",
    "        for b in blocks:\n",
    "            x0, y0, x1, y1, text, *_ = b\n",
    "            center_x = (x0 + x1) / 2\n",
    "            if center_x < width / 2:\n",
    "                left_text += text.strip() + \" \"\n",
    "            else:\n",
    "                right_text += text.strip() + \" \"\n",
    "\n",
    "        left_text_total += f\"[페이지 {page_num + 1} - 좌]\\n{left_text.strip()}\\n\\n\"\n",
    "        right_text_total += f\"[페이지 {page_num + 1} - 우]\\n{right_text.strip()}\\n\\n\"\n",
    "\n",
    "    return left_text_total + right_text_total  # ⬅️ 합쳐서 반환\n",
    "\n",
    "\n",
    "# 🔹 PDF 경로 및 TXT 저장\n",
    "pdf_path = \"KB 실버암 간편건강보험Plus.pdf\"\n",
    "txt_path = \"KB_실버암_간편건강보험Plus.txt\"\n",
    "\n",
    "if not os.path.exists(txt_path):\n",
    "    full_text = extract_left_right_text(pdf_path)\n",
    "    with open(txt_path, \"w\", encoding=\"utf-8\") as f:\n",
    "        f.write(full_text)\n",
    "    print(f\"✅ 텍스트 저장 완료: {txt_path}\")\n",
    "else:\n",
    "    print(f\"📄 기존 텍스트 파일 사용: {txt_path}\")\n",
    "\n",
    "\n",
    "# ---------------------------------------------------\n",
    "# ✅ 2. LangChain RAG 파이프라인\n",
    "# ---------------------------------------------------\n",
    "\n",
    "# 📄 TXT 로드 및 분할\n",
    "loader = TextLoader(txt_path, encoding=\"utf-8\")\n",
    "docs_raw = loader.load()\n",
    "\n",
    "text_splitter = RecursiveCharacterTextSplitter(chunk_size=300, \n",
    "                                               chunk_overlap=50,\n",
    "                                               )\n",
    "docs = text_splitter.split_documents(docs_raw)\n",
    "\n",
    "# 🧠 임베딩 및 벡터스토어\n",
    "embeddings = OpenAIEmbeddings(model=\"text-embedding-3-small\", \n",
    "                              openai_api_key=OPENAI_API_KEY,\n",
    "                              )\n",
    "vectorstore = FAISS.from_documents(docs, embedding=embeddings)\n",
    "retriever = vectorstore.as_retriever()\n",
    "\n",
    "# 🤖 Claude LLM\n",
    "llm = ChatAnthropic(\n",
    "    model=\"claude-opus-4-20250514\",\n",
    "    temperature=0,\n",
    "    max_tokens=1024,\n",
    "    api_key=ANTHROPIC_API_KEY,\n",
    ")\n",
    "\n",
    "# 🧩 RAG 프롬프트 + 체인 구성\n",
    "prompt = hub.pull(\"rlm/rag-prompt\")\n",
    "\n",
    "rag_chain = (\n",
    "    {\"context\": retriever, \"question\": RunnablePassthrough()}\n",
    "    | prompt\n",
    "    | llm\n",
    "    | StrOutputParser()\n",
    ")\n",
    "\n",
    "llm_only_chain = llm | StrOutputParser()"
   ]
  },
  {
   "cell_type": "code",
   "execution_count": 6,
   "id": "fbffbc56",
   "metadata": {},
   "outputs": [
    {
     "name": "stdout",
     "output_type": "stream",
     "text": [
      "🧾 질문: 통합전이암진단비의 보장의범위는 어떻게 돼?\n",
      "\n",
      "💬 [LLM 단독 응답]:\n",
      "통합전이암진단비의 보장범위에 대해 설명드리겠습니다.\n",
      "\n",
      "## 통합전이암진단비 보장범위\n",
      "\n",
      "### 1. **기본 보장내용**\n",
      "- 원발암과 다른 장기로 암이 전이된 경우\n",
      "- 최초 1회에 한해 진단비 지급\n",
      "- 원발암 진단 이후 전이암 진단 시 보장\n",
      "\n",
      "### 2. **주요 보장 조건**\n",
      "- **원격전이**: 원발 부위에서 멀리 떨어진 다른 장기로의 전이\n",
      "- **진단확정**: 병리학적 검사로 확진된 경우\n",
      "- **면책기간**: 보통 계약일로부터 90일 이후 보장\n",
      "\n",
      "### 3. **보장 제외사항**\n",
      "- 원발암의 재발\n",
      "- 인접장기로의 직접 침윤\n",
      "- 림프절 전이만 있는 경우 (일부 상품)\n",
      "- 면책기간 내 진단\n",
      "\n",
      "### 4. **보험사별 차이점**\n",
      "- 보장금액: 1,000만원~5,000만원 수준\n",
      "- 세부 약관 조건 상이\n",
      "- 갱신/비갱신 여부\n",
      "\n",
      "**정확한 보장범위는 가입하신 보험상품의 약관을 확인하시거나, 보험사에 직접 문의하시는 것이 가장 정확합니다.**\n",
      "\n",
      "📚 [RAG 기반 응답]:\n",
      "제공된 문서에서 통합전이암진단비의 구체적인 보장 범위를 확인할 수 없습니다. 문서에는 \"통합전이암진단비【갱신계약】\"라는 항목이 언급되어 있고, 통합암진단비Ⅱ(전이암포함)에 대한 내용이 일부 포함되어 있으나, 통합전이암진단비의 정확한 보장 범위는 명시되어 있지 않습니다. 정확한 보장 범위를 확인하려면 해당 보험약관의 통합전이암진단비 조항을 직접 확인하시기 바랍니다.\n"
     ]
    }
   ],
   "source": [
    "# ---------------------------------------------------\n",
    "# ✅ 3. 질문 실행\n",
    "# ---------------------------------------------------\n",
    "# 질문\n",
    "# question = \"고지의무를 위반한 경우 보험사는 어떤 조치를 취할 수 있나요?\"                                  # 민석 질문\n",
    "# question = \"특정암 ii란 뭐야?\"                                                                          # 1번 질문\n",
    "# question = \"유사암진단비iii 를 청구하려고 하는데 갑상선암은 어떤 검사를 통해 진단받아야돼?\"                # 2번 질문                                                   # 3번 질문\n",
    "question = \"통합전이암진단비의 보장의범위는 어떻게 돼?\"                                                     # 4번 질문\n",
    "# question = \"보함계약한지 8개월이 지났는데 표적항암방사선 치료비를 보험가입금액의 100%를 받을 수 있어?\"      # 5번 질문\n",
    "# question = \"신재진단암진단비ii 에서 수술이란 뭐야?\"                                                       # 6번 질문    \n",
    "# question = \"보험금청구 했는데 언제 지급되니?\"      \n",
    "\n",
    "\n",
    "# 1. RAG 기반 응답\n",
    "rag_answer = rag_chain.invoke(question)\n",
    "\n",
    "# 2. LLM 단독 응답\n",
    "llm_only_answer = llm_only_chain.invoke(question)\n",
    "\n",
    "# 출력\n",
    "print(\"🧾 질문:\", question)\n",
    "print(\"\\n💬 [LLM 단독 응답]:\")\n",
    "print(llm_only_answer)\n",
    "print(\"\\n📚 [RAG 기반 응답]:\")\n",
    "print(rag_answer)"
   ]
  },
  {
   "cell_type": "code",
   "execution_count": null,
   "id": "c6b8d2e2",
   "metadata": {},
   "outputs": [],
   "source": []
  }
 ],
 "metadata": {
  "kernelspec": {
   "display_name": "Python 3",
   "language": "python",
   "name": "python3"
  },
  "language_info": {
   "codemirror_mode": {
    "name": "ipython",
    "version": 3
   },
   "file_extension": ".py",
   "mimetype": "text/x-python",
   "name": "python",
   "nbconvert_exporter": "python",
   "pygments_lexer": "ipython3",
   "version": "3.11.9"
  }
 },
 "nbformat": 4,
 "nbformat_minor": 5
}
