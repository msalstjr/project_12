{
 "cells": [
  {
   "cell_type": "markdown",
   "id": "09978378",
   "metadata": {},
   "source": [
    "### 라이브러리"
   ]
  },
  {
   "cell_type": "code",
   "execution_count": 5,
   "id": "344de29b",
   "metadata": {},
   "outputs": [],
   "source": [
    "import os\n",
    "from langchain.document_loaders import PyPDFLoader\n",
    "from langchain.vectorstores import FAISS\n",
    "from langchain.text_splitter import RecursiveCharacterTextSplitter\n",
    "from langchain.embeddings import OpenAIEmbeddings\n",
    "from langchain_anthropic import ChatAnthropic\n",
    "from langchain_core.runnables import RunnablePassthrough\n",
    "from langchain_core.output_parsers import StrOutputParser\n",
    "from langchain import hub\n",
    "from dotenv import load_dotenv"
   ]
  },
  {
   "cell_type": "markdown",
   "id": "7e50e313",
   "metadata": {},
   "source": [
    "### API 키"
   ]
  },
  {
   "cell_type": "code",
   "execution_count": 6,
   "id": "0dacfe39",
   "metadata": {},
   "outputs": [],
   "source": [
    "load_dotenv()\n",
    "\n",
    "# API 키 설정\n",
    "ANTHROPIC_API_KEY = os.getenv(\"ANTHROPIC_API_KEY\")\n",
    "OPENAI_API_KEY    = os.getenv(\"OPENAI_API_KEY\")"
   ]
  },
  {
   "cell_type": "markdown",
   "id": "2324e3b0",
   "metadata": {},
   "source": [
    "### PDF 로드 / 임베딩"
   ]
  },
  {
   "cell_type": "code",
   "execution_count": 7,
   "id": "1fe00a95",
   "metadata": {},
   "outputs": [],
   "source": [
    "# PDF 로드 및 분할\n",
    "loader = PyPDFLoader(\"KB 실버암 간편건강보험Plus.pdf\")\n",
    "pages = loader.load_and_split()\n",
    "text_splitter = RecursiveCharacterTextSplitter(chunk_size    = 200, \n",
    "                                               chunk_overlap = 20,\n",
    "                                               )\n",
    "docs = text_splitter.split_documents(pages)\n",
    "\n",
    "# OpenAI 임베딩\n",
    "embeddings = OpenAIEmbeddings(model=\"text-embedding-3-small\",\n",
    "                              openai_api_key = OPENAI_API_KEY,\n",
    "                              )\n",
    "\n",
    "# FAISS 벡터 저장소\n",
    "vectorstore = FAISS.from_documents(docs, \n",
    "                                   embedding=embeddings,\n",
    "                                   )\n",
    "retriever = vectorstore.as_retriever()"
   ]
  },
  {
   "cell_type": "code",
   "execution_count": 10,
   "id": "a2a62d0f",
   "metadata": {},
   "outputs": [
    {
     "name": "stderr",
     "output_type": "stream",
     "text": [
      "C:\\Users\\KDT2\\AppData\\Roaming\\Python\\Python311\\site-packages\\langsmith\\client.py:272: LangSmithMissingAPIKeyWarning: API key must be provided when using hosted LangSmith API\n",
      "  warnings.warn(\n"
     ]
    },
    {
     "name": "stdout",
     "output_type": "stream",
     "text": [
      "🧾 질문: 고지의무를 위반한 경우 보험사는 어떤 조치를 취할 수 있나요?\n",
      "\n",
      "💬 [LLM 단독 응답]:\n",
      "content='고지의무 위반 시 보험사가 취할 수 있는 주요 조치는 다음과 같습니다:\\n\\n1. 계약 해지\\n- 고의적 고지의무 위반 시 보험계약 전체를 해지할 수 있음\\n\\n2. 보험금 지급 거절\\n- 고지의무 위반과 보험사고 사이에 인과관계가 있는 경우\\n- 보험금 전부 또는 일부를 지급하지 않을 수 있음\\n\\n3. 계약 내용 변경\\n- 보험료 조정\\n- 보장 범위 제한\\n\\n4. 계약 무효 처리\\n- 중대한 고지의무 위반 시 계약 자체를 무효화할 수 있음\\n\\n5. 손해배상 청구\\n- 고의적 위반의 경우 추가적인 손해배상 청구 가능' additional_kwargs={} response_metadata={'id': 'msg_01JuHjPbZ7V795EFjinMQaYW', 'model': 'claude-3-5-haiku-20241022', 'stop_reason': 'end_turn', 'stop_sequence': None, 'usage': {'cache_creation_input_tokens': 0, 'cache_read_input_tokens': 0, 'input_tokens': 43, 'output_tokens': 277, 'server_tool_use': None, 'service_tier': 'standard'}, 'model_name': 'claude-3-5-haiku-20241022'} id='run--5c80bf91-cc69-425a-b54e-6fc9a693073b-0' usage_metadata={'input_tokens': 43, 'output_tokens': 277, 'total_tokens': 320, 'input_token_details': {'cache_read': 0, 'cache_creation': 0}}\n",
      "\n",
      "📚 [RAG 기반 응답]:\n",
      "고지의무 위반 시 보험사는 계약을 해지할 수 있습니다. 구체적으로 보험자는 고의 또는 중대한 과실로 중요 사항을 고지하지 않거나 부실 고지한 경우, 사실을 안 날로부터 1개월 내에, 계약 체결일로부터 3년 내에 계약을 해지할 수 있습니다. 다만, 보험자가 계약 당시 그 사실을 알았거나 중대한 과실로 알지 못한 경우에는 계약 해지가 제한됩니다.\n"
     ]
    }
   ],
   "source": [
    "# Claude LLM\n",
    "llm = ChatAnthropic(model=\"claude-3-5-haiku-20241022\",\n",
    "                    temperature=0,\n",
    "                    max_tokens=1024,\n",
    "                    api_key=ANTHROPIC_API_KEY,\n",
    "                    )\n",
    "\n",
    "# RAG 프롬프트\n",
    "prompt = hub.pull(\"rlm/rag-prompt\")\n",
    "\n",
    "# RAG 체인 구성\n",
    "rag_chain = (\n",
    "    {\"context\": retriever, \"question\": RunnablePassthrough()}\n",
    "    | prompt\n",
    "    | llm\n",
    "    | StrOutputParser()\n",
    ")\n",
    "\n",
    "# 질문\n",
    "question = \"고지의무를 위반한 경우 보험사는 어떤 조치를 취할 수 있나요?\"\n",
    "\n",
    "# 1. RAG 기반 응답\n",
    "rag_answer = rag_chain.invoke(question)\n",
    "\n",
    "# 2. 순수 LLM 응답 (문서 없이 바로 Claude에게 질문)\n",
    "llm_only_answer = llm.invoke(question)\n",
    "\n",
    "# 출력\n",
    "print(\"🧾 질문:\", question)\n",
    "print(\"\\n💬 [LLM 단독 응답]:\")\n",
    "print(llm_only_answer)\n",
    "print(\"\\n📚 [RAG 기반 응답]:\")\n",
    "print(rag_answer)\n",
    "\n"
   ]
  },
  {
   "cell_type": "code",
   "execution_count": null,
   "id": "24819252",
   "metadata": {},
   "outputs": [],
   "source": []
  },
  {
   "cell_type": "code",
   "execution_count": null,
   "id": "2239f0b8",
   "metadata": {},
   "outputs": [],
   "source": []
  },
  {
   "cell_type": "code",
   "execution_count": null,
   "id": "d3c55683",
   "metadata": {},
   "outputs": [],
   "source": []
  }
 ],
 "metadata": {
  "kernelspec": {
   "display_name": "Python 3",
   "language": "python",
   "name": "python3"
  },
  "language_info": {
   "codemirror_mode": {
    "name": "ipython",
    "version": 3
   },
   "file_extension": ".py",
   "mimetype": "text/x-python",
   "name": "python",
   "nbconvert_exporter": "python",
   "pygments_lexer": "ipython3",
   "version": "3.11.9"
  }
 },
 "nbformat": 4,
 "nbformat_minor": 5
}
